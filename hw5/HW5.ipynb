{
 "cells": [
  {
   "cell_type": "markdown",
   "id": "6ad893c9",
   "metadata": {},
   "source": [
    "# Andres Graterol - 4031393 - Fall 22\n",
    "# Homework 5"
   ]
  },
  {
   "cell_type": "markdown",
   "id": "8539eb36",
   "metadata": {},
   "source": [
    "## Problem 1"
   ]
  },
  {
   "cell_type": "code",
   "execution_count": null,
   "id": "729fb89b",
   "metadata": {},
   "outputs": [],
   "source": [
    "# F =5 and M = 2\n",
    "# "
   ]
  }
 ],
 "metadata": {
  "kernelspec": {
   "display_name": "Python 3 (ipykernel)",
   "language": "python",
   "name": "python3"
  },
  "language_info": {
   "codemirror_mode": {
    "name": "ipython",
    "version": 3
   },
   "file_extension": ".py",
   "mimetype": "text/x-python",
   "name": "python",
   "nbconvert_exporter": "python",
   "pygments_lexer": "ipython3",
   "version": "3.9.12"
  }
 },
 "nbformat": 4,
 "nbformat_minor": 5
}
