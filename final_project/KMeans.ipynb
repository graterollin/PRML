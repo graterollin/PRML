{
 "cells": [
  {
   "cell_type": "code",
   "execution_count": 1,
   "metadata": {},
   "outputs": [],
   "source": [
    "import numpy as np\n",
    "import cv2\n",
    "import os\n",
    "import csv\n",
    "from sklearn.cluster import KMeans\n",
    "from sklearn.metrics import accuracy_score\n",
    "from sklearn import metrics\n",
    "import matplotlib.pyplot as plt"
   ]
  },
  {
   "cell_type": "code",
   "execution_count": 3,
   "metadata": {},
   "outputs": [],
   "source": [
    "def data_preprocessing(negative_pics, positive_pics):\n",
    "    # Class 0 => No cracks \n",
    "    # Class 1 => Cracks \n",
    "\n",
    "    # Before reshape => (20000, 227, 227)\n",
    "    # Want => (20000, 51529, 1)\n",
    "    negative_images = []\n",
    "\n",
    "    # Iterate over the folder with no cracks  \n",
    "    for picture in os.scandir(negative_pics):\n",
    "        if picture.is_file():\n",
    "            pic_path = negative_pics + '/' + picture.name\n",
    "            image = cv2.imread(pic_path)\n",
    "            # Remove 3 channels \n",
    "            gray_image = cv2.cvtColor(image, cv2.COLOR_BGR2GRAY)\n",
    "            # Each image is (227, 227, 3)\n",
    "            # Grayscale => (227, 227, 1)\n",
    "            data = np.asarray(gray_image)\n",
    "            data = data.reshape((227*227))\n",
    "            # Add extra last column to help with labeling\n",
    "            data = np.append(data, 0)\n",
    "            negative_images.append(data)\n",
    "\n",
    "    print(\"Shape of negative images\", np.array(negative_images).shape)\n",
    "    positive_images = []\n",
    "\n",
    "    # Iterative over the folder with cracks\n",
    "    for picture in os.scandir(positive_pics):\n",
    "        if picture.is_file():\n",
    "            pic_path = positive_pics + '/' + picture.name\n",
    "            image = cv2.imread(pic_path)\n",
    "            gray_image = cv2.cvtColor(image, cv2.COLOR_BGR2GRAY)\n",
    "            data = np.asarray(gray_image)\n",
    "            data = data.reshape((227*227))\n",
    "            data = np.append(data, 1)\n",
    "            positive_images.append(data)\n",
    "        \n",
    "    print(\"Shape of positive images\", np.array(positive_images).shape)\n",
    "    #print(positive_images)\n",
    "\n",
    "    all_images = np.concatenate((negative_images, positive_images))\n",
    "\n",
    "    # TODO: Seed the shuffle??\n",
    "    np.random.shuffle(all_images)\n",
    "    # 75 and 25 split (30000) and (10000)\n",
    "    x_train, x_test = all_images[:30000], all_images[30000:]\n",
    "\n",
    "    y_train = []\n",
    "    y_test = []\n",
    "\n",
    "    for point in x_train:\n",
    "        if (point[-1] == 0):\n",
    "            # OHE for class 0\n",
    "            y_train.append([1, 0])\n",
    "        if (point[-1] == 1):\n",
    "            # OHE for class 1\n",
    "            y_train.append([0, 1])\n",
    "\n",
    "    # TODO: See if this needs to be done before reshaping!!!\n",
    "    # drop the label point \n",
    "    x_train = np.delete(x_train, obj=-1, axis=1)\n",
    "    x_train = x_train.astype('float32')\n",
    "    # Normalize the data\n",
    "    x_train /= 255\n",
    "    #x_train = x_train[:, :, np.newaxis]\n",
    "\n",
    "    for point in x_test:\n",
    "        if (point[-1] == 0):\n",
    "            y_test.append([1, 0])\n",
    "        if (point[-1] == 1):\n",
    "            y_test.append([0, 1])\n",
    "        \n",
    "    # TODO: Add this to the 1 Hidden Layer Cell\n",
    "    # TODO: Understand the formula in the hw5 doc\n",
    "    # drop the label point \n",
    "    x_test = np.delete(x_test, obj=-1, axis=1)\n",
    "    x_test = x_test.astype('float32')\n",
    "    x_test /= 255\n",
    "    #x_test = x_test[:, :, np.newaxis]\n",
    "\n",
    "    x_train = np.asarray(x_train)\n",
    "    y_train = np.asarray(y_train)\n",
    "    x_test = np.asarray(x_test)\n",
    "    y_test = np.asarray(y_test)\n",
    "\n",
    "    return (x_train, y_train), (x_test, y_test)"
   ]
  },
  {
   "cell_type": "code",
   "execution_count": 4,
   "metadata": {},
   "outputs": [
    {
     "name": "stdout",
     "output_type": "stream",
     "text": [
      "Shape of negative images (20000, 51530)\n",
      "Shape of positive images (20000, 51530)\n",
      "Shape of x_train (30000, 51529)\n",
      "Shape of y_train (30000, 2)\n",
      "Shape of x_test (10000, 51529)\n",
      "Shape of y_test (10000, 2)\n"
     ]
    }
   ],
   "source": [
    "negative_pics = 'ConcreteCracks/Negative'\n",
    "positive_pics = 'ConcreteCracks/Positive'\n",
    "\n",
    "(x_train, y_train), (x_test, y_test) = data_preprocessing(negative_pics, positive_pics)\n",
    "\n",
    "print(\"Shape of x_train\", x_train.shape)\n",
    "print(\"Shape of y_train\", y_train.shape)\n",
    "print(\"Shape of x_test\", x_test.shape)\n",
    "print(\"Shape of y_test\", y_test.shape)"
   ]
  },
  {
   "cell_type": "code",
   "execution_count": 5,
   "metadata": {},
   "outputs": [
    {
     "name": "stdout",
     "output_type": "stream",
     "text": [
      "New labels arrangement:  (30000,)\n",
      "New labels arrangement:  (10000,)\n"
     ]
    }
   ],
   "source": [
    "def transformLabel(label):\n",
    "    k_means_label = []\n",
    "\n",
    "    for i in range(len(label)):\n",
    "        if (label[i][0] == 1):\n",
    "            k_means_label.append(0)\n",
    "        else:\n",
    "            k_means_label.append(1)\n",
    "\n",
    "    print(\"New labels arrangement: \", np.array(k_means_label).shape)\n",
    "\n",
    "    return k_means_label\n",
    "\n",
    "k_means_y_train = transformLabel(y_train)\n",
    "k_means_y_test = transformLabel(y_test)"
   ]
  },
  {
   "cell_type": "code",
   "execution_count": 6,
   "metadata": {},
   "outputs": [],
   "source": [
    "def extractLabelInfo(predict, label):\n",
    "    reference_labels = {}\n",
    "    label = np.array(label)\n",
    "\n",
    "    for i in range(len(np.unique(predict))):\n",
    "        indices = np.where(predict == i)\n",
    "        actual_values = []\n",
    "        for j in range(len(indices)):\n",
    "            temp = label[(indices[0][j])]\n",
    "            actual_values.append(temp)\n",
    "\n",
    "        # Get the class that was actually assigned to the cluster\n",
    "        cluster_label = max(set(actual_values), key=actual_values.count)\n",
    "\n",
    "        reference_labels.update({i:cluster_label})\n",
    "    \n",
    "    return reference_labels"
   ]
  },
  {
   "cell_type": "code",
   "execution_count": 80,
   "metadata": {},
   "outputs": [],
   "source": [
    "def computeAccuracy(prediction, label):\n",
    "    reference_labels = extractLabelInfo(prediction, label)\n",
    "    print(reference_labels)\n",
    "\n",
    "    number_labels = []\n",
    "    for i in range(len(prediction)):\n",
    "        number_labels.append(reference_labels[prediction[i]])\n",
    "\n",
    "    accuracy = accuracy_score(number_labels, label)*100\n",
    "\n",
    "    return accuracy\n",
    "\n",
    "def model_metrics(model, label):\n",
    "    print(\"Inertia: \", model.inertia_)\n",
    "    print(\"Homogenity: \", metrics.homogeneity_score(label, model.labels_))\n",
    "\n",
    "def visualizeCenters(class_values, centers):\n",
    "    for i in range(len(centers)):\n",
    "        plt.subplot(2,3,i+2)\n",
    "        if (class_values[i] == 0):\n",
    "            string_label = \"Negative\"\n",
    "        else:\n",
    "            string_label = \"Positive\"\n",
    "\n",
    "        plt.title('Class: {}'.format(string_label))\n",
    "        back_to_color = cv2.cvtColor(centers[i], cv2.COLOR_GRAY2BGR)\n",
    "        image = np.asarray(back_to_color)\n",
    "        #plt.imshow(centers[i].astype('uint8'))\n",
    "        plt.imshow((image).astype('uint8'))"
   ]
  },
  {
   "cell_type": "code",
   "execution_count": 48,
   "metadata": {},
   "outputs": [
    {
     "name": "stdout",
     "output_type": "stream",
     "text": [
      "Inertia:  17835816.0\n",
      "Homogenity:  0.12758198154243747\n",
      "{0: 0, 1: 1}\n",
      "Training Accuracy for 2  clusters 70.67333333333333\n",
      "{0: 1, 1: 1}\n",
      "Testing Accuracy:  49.61\n",
      "Inertia:  15409969.0\n",
      "Homogenity:  0.1290869751906516\n",
      "{0: 1, 1: 0, 2: 1}\n",
      "Training Accuracy for 3  clusters 69.64666666666666\n",
      "{0: 1, 1: 1, 2: 1}\n",
      "Testing Accuracy:  49.61\n",
      "Inertia:  14366021.0\n",
      "Homogenity:  0.1564195677506314\n",
      "{0: 0, 1: 0, 2: 1, 3: 1}\n",
      "Training Accuracy for 4  clusters 70.24666666666667\n",
      "{0: 1, 1: 1, 2: 1, 3: 1}\n",
      "Testing Accuracy:  49.61\n",
      "Inertia:  13863248.0\n",
      "Homogenity:  0.16618060632600307\n",
      "{0: 1, 1: 0, 2: 1, 3: 0, 4: 1}\n",
      "Training Accuracy for 5  clusters 70.93\n",
      "{0: 1, 1: 1, 2: 1, 3: 0, 4: 1}\n",
      "Testing Accuracy:  61.019999999999996\n"
     ]
    }
   ],
   "source": [
    "numberOfClusters = [2,3,4,5]\n",
    "\n",
    "for i in range(len(numberOfClusters)):\n",
    "    kmeans = KMeans(n_clusters=numberOfClusters[i]).fit(x_train)\n",
    "    model_metrics(kmeans, k_means_y_train)\n",
    "\n",
    "    training_accuracy = computeAccuracy(kmeans.labels_, k_means_y_train)\n",
    "    print(\"Training Accuracy for {}\".format(numberOfClusters[i]), \" clusters\", training_accuracy)\n",
    "\n",
    "    prediction = kmeans.predict(x_test)\n",
    "    testing_accuracy = computeAccuracy(prediction, k_means_y_test)\n",
    "    print(\"Testing Accuracy: \", testing_accuracy)\n"
   ]
  },
  {
   "cell_type": "code",
   "execution_count": 49,
   "metadata": {},
   "outputs": [
    {
     "name": "stdout",
     "output_type": "stream",
     "text": [
      "Inertia:  13421844.0\n",
      "Homogenity:  0.21651702672006715\n",
      "{0: 0, 1: 1, 2: 0, 3: 1, 4: 1, 5: 1}\n",
      "Training Accuracy for 6  clusters 70.66666666666667\n",
      "{0: 0, 1: 0, 2: 1, 3: 1, 4: 1, 5: 1}\n",
      "Testing Accuracy:  53.44\n",
      "Inertia:  13086449.0\n",
      "Homogenity:  0.25102026232304825\n",
      "{0: 1, 1: 0, 2: 0, 3: 0, 4: 1, 5: 1, 6: 1}\n",
      "Training Accuracy for 7  clusters 64.34\n",
      "{0: 1, 1: 0, 2: 0, 3: 1, 4: 1, 5: 1, 6: 1}\n",
      "Testing Accuracy:  54.449999999999996\n",
      "Inertia:  12904670.0\n",
      "Homogenity:  0.2727511386140416\n",
      "{0: 1, 1: 0, 2: 1, 3: 0, 4: 0, 5: 1, 6: 1, 7: 0}\n",
      "Training Accuracy for 8  clusters 67.07666666666667\n",
      "{0: 1, 1: 1, 2: 1, 3: 0, 4: 1, 5: 1, 6: 1, 7: 0}\n",
      "Testing Accuracy:  55.410000000000004\n",
      "Inertia:  12641529.0\n",
      "Homogenity:  0.26232269380949336\n",
      "{0: 0, 1: 0, 2: 0, 3: 1, 4: 1, 5: 1, 6: 1, 7: 1, 8: 0}\n",
      "Training Accuracy for 9  clusters 69.52000000000001\n",
      "{0: 1, 1: 1, 2: 1, 3: 1, 4: 1, 5: 1, 6: 1, 7: 0, 8: 1}\n",
      "Testing Accuracy:  46.800000000000004\n"
     ]
    }
   ],
   "source": [
    "numberOfClusters = [6,7,8,9]\n",
    "\n",
    "for i in range(len(numberOfClusters)):\n",
    "    kmeans = KMeans(n_clusters=numberOfClusters[i]).fit(x_train)\n",
    "    model_metrics(kmeans, k_means_y_train)\n",
    "\n",
    "    training_accuracy = computeAccuracy(kmeans.labels_, k_means_y_train)\n",
    "    print(\"Training Accuracy for {}\".format(numberOfClusters[i]), \" clusters\", training_accuracy)\n",
    "\n",
    "    prediction = kmeans.predict(x_test)\n",
    "    testing_accuracy = computeAccuracy(prediction, k_means_y_test)\n",
    "    print(\"Testing Accuracy: \", testing_accuracy)\n"
   ]
  },
  {
   "cell_type": "markdown",
   "metadata": {},
   "source": [
    "It looks like our best performance was with 5 clusters, so let's visualize what these centers look like to explore why 5 clusters works best when there are only 2 classes in this problem. "
   ]
  },
  {
   "cell_type": "code",
   "execution_count": 78,
   "metadata": {},
   "outputs": [
    {
     "name": "stdout",
     "output_type": "stream",
     "text": [
      "Centers shape: (5, 51529)\n"
     ]
    }
   ],
   "source": [
    "# Let's run kmeans for 5 clusters once again:\n",
    "kmeans = KMeans(n_clusters=5).fit(x_train)\n",
    "class_values = extractLabelInfo(kmeans.labels_, k_means_y_train)\n",
    "centers = kmeans.cluster_centers_\n",
    "print(\"Centers shape:\", np.array(centers).shape)\n",
    "# Undo the normalization\n",
    "centers = centers * 255"
   ]
  },
  {
   "cell_type": "code",
   "execution_count": 81,
   "metadata": {},
   "outputs": [
    {
     "data": {
      "image/png": "[encoded data removed]",
      "text/plain": [
       "<Figure size 640x480 with 5 Axes>"
      ]
     },
     "metadata": {},
     "output_type": "display_data"
    }
   ],
   "source": [
    "# Convert the images back to their original shapes for visualization \n",
    "centers = centers.reshape(5,227,227)\n",
    "\n",
    "visualizeCenters(class_values, centers)"
   ]
  }
 ],
 "metadata": {
  "kernelspec": {
   "display_name": "Python 3.10.8 64-bit (microsoft store)",
   "language": "python",
   "name": "python3"
  },
  "language_info": {
   "codemirror_mode": {
    "name": "ipython",
    "version": 3
   },
   "file_extension": ".py",
   "mimetype": "text/x-python",
   "name": "python",
   "nbconvert_exporter": "python",
   "pygments_lexer": "ipython3",
   "version": "3.10.8"
  },
  "orig_nbformat": 4,
  "vscode": {
   "interpreter": {
    "hash": "c51acc1f6588e1d877ef583c61706ab2fa8ab6987e63afd43dd1fd5da2227427"
   }
  }
 },
 "nbformat": 4,
 "nbformat_minor": 2
}
